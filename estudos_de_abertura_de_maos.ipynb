{
  "nbformat": 4,
  "nbformat_minor": 0,
  "metadata": {
    "colab": {
      "provenance": [],
      "authorship_tag": "ABX9TyMp0nKx4y1pImC0LzVVtlcv",
      "include_colab_link": true
    },
    "kernelspec": {
      "name": "python3",
      "display_name": "Python 3"
    },
    "language_info": {
      "name": "python"
    }
  },
  "cells": [
    {
      "cell_type": "markdown",
      "metadata": {
        "id": "view-in-github",
        "colab_type": "text"
      },
      "source": [
        "<a href=\"https://colab.research.google.com/github/Pedrocanizel/poker_cash_game/blob/main/estudos_de_abertura_de_maos.ipynb\" target=\"_parent\"><img src=\"https://colab.research.google.com/assets/colab-badge.svg\" alt=\"Open In Colab\"/></a>"
      ]
    },
    {
      "cell_type": "code",
      "execution_count": 8,
      "metadata": {
        "colab": {
          "base_uri": "https://localhost:8080/"
        },
        "id": "qnDbKaf7kRlw",
        "outputId": "ba751008-e4d6-4d63-eeb0-f4763b6d10f6"
      },
      "outputs": [
        {
          "output_type": "stream",
          "name": "stdout",
          "text": [
            "Jogando do SB com ['A de Paus', '9 de Espadas'] o que você faria?\n"
          ]
        }
      ],
      "source": [
        "import random\n",
        "\n",
        "# Lista de possiveis posições\n",
        "possiveis_posicoes = [\"UTG\", \"HJ\", \"CO\", \"BTN\", \"SB\", \"BB\"]\n",
        "\n",
        "# Aleatóriamente seleciona uma posição\n",
        "posicao = random.choice(possiveis_posicoes)\n",
        "\n",
        "# Definindo o deck\n",
        "ranks = ['2', '3', '4', '5', '6', '7', '8', '9', '10', 'J', 'Q', 'K', 'A']\n",
        "naipes = ['Copas', 'Ouros', 'Paus', 'Espadas']\n",
        "\n",
        "# Criar o baralho o baralho\n",
        "deck = [f\"{rank} de {naipe}\" for rank in ranks for naipe in naipes]\n",
        "\n",
        "# Aleatóriamente selecionar 2 cartas do baralho\n",
        "cards = random.sample(deck, 2)\n",
        "\n",
        "print(f\"Jogando do {posicao} com {cards} o que você faria?\")\n"
      ]
    }
  ]
}