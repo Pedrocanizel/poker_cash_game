{
  "nbformat": 4,
  "nbformat_minor": 0,
  "metadata": {
    "colab": {
      "provenance": [],
      "authorship_tag": "ABX9TyMCeeje9O1APsYAv150fHEZ",
      "include_colab_link": true
    },
    "kernelspec": {
      "name": "python3",
      "display_name": "Python 3"
    },
    "language_info": {
      "name": "python"
    }
  },
  "cells": [
    {
      "cell_type": "markdown",
      "metadata": {
        "id": "view-in-github",
        "colab_type": "text"
      },
      "source": [
        "<a href=\"https://colab.research.google.com/github/Pedrocanizel/poker_cash_game/blob/main/Estudos_poker_segundo_a_falar.ipynb\" target=\"_parent\"><img src=\"https://colab.research.google.com/assets/colab-badge.svg\" alt=\"Open In Colab\"/></a>"
      ]
    },
    {
      "cell_type": "code",
      "execution_count": 10,
      "metadata": {
        "colab": {
          "base_uri": "https://localhost:8080/"
        },
        "id": "2hWWwevsnRat",
        "outputId": "e073eb7e-0a3a-416d-ca29-fb07104691d9"
      },
      "outputs": [
        {
          "output_type": "stream",
          "name": "stdout",
          "text": [
            "Vilão abre do SB com Open Padrão (2.5 BB à 3.5 BB)\n",
            "Você está no BB, com ['3 de Copas', '9 de Ouros'] o que você faz ?\n"
          ]
        }
      ],
      "source": [
        "import random\n",
        "\n",
        "# Lista de possiveis posições para abrir\n",
        "possiveis_posicoes_abrir = {\"UTG\": 1, \"HJ\": 2, \"CO\": 3, \"BTN\": 4, \"SB\": 5}\n",
        "\n",
        "#Lista de possíveis apostas para treinar\n",
        "possiveis_apostas = [\"Open Padrão (2.5 BB à 3.5 BB)\", \"MiniRaise 2BB\"]\n",
        "\n",
        "# Get a random key\n",
        "posicao_abrir = random.choice(list(possiveis_posicoes_abrir.keys()))\n",
        "\n",
        "# Get the value associated with the random key\n",
        "indice_posicao_abrir = possiveis_posicoes_abrir[posicao_abrir]\n",
        "\n",
        "# Lista de possiveis posições para abrir\n",
        "possiveis_posicoes_segundo_falar = {\"UTG\": 1, \"HJ\": 2, \"CO\": 3, \"BTN\": 4, \"SB\": 5, \"BB\": 6}\n",
        "\n",
        "# Aleatóriamente seleciona uma aposta\n",
        "aposta = random.choice(possiveis_apostas)\n",
        "\n",
        "# Selecionar uma posição segundo falar maior que a posição de abertura\n",
        "while True:\n",
        "    segundo_falar = random.choice(list(possiveis_posicoes_segundo_falar.keys()))\n",
        "    indice_segundo_falar = possiveis_posicoes_segundo_falar[segundo_falar]\n",
        "    if indice_segundo_falar > indice_posicao_abrir:\n",
        "        break\n",
        "\n",
        "# Definindo o deck\n",
        "ranks = ['2', '3', '4', '5', '6', '7', '8', '9', '10', 'J', 'Q', 'K', 'A']\n",
        "naipes = ['Copas', 'Ouros', 'Paus', 'Espadas']\n",
        "\n",
        "# Criar o baralho o baralho\n",
        "deck = [f\"{rank} de {naipe}\" for rank in ranks for naipe in naipes]\n",
        "\n",
        "# Aleatóriamente selecionar 2 cartas do baralho\n",
        "cards = random.sample(deck, 2)\n",
        "\n",
        "print(f\"Vilão abre do {posicao_abrir} com {aposta}\")\n",
        "print(f\"Você está no {segundo_falar}, com {cards} o que você faz ?\")\n"
      ]
    }
  ]
}